{
  "nbformat": 4,
  "nbformat_minor": 0,
  "metadata": {
    "colab": {
      "provenance": [],
      "gpuType": "T4",
      "authorship_tag": "ABX9TyMt5HUigK1oxsS4dn4GMMIc",
      "include_colab_link": true
    },
    "kernelspec": {
      "name": "python3",
      "display_name": "Python 3"
    },
    "language_info": {
      "name": "python"
    },
    "accelerator": "GPU"
  },
  "cells": [
    {
      "cell_type": "markdown",
      "metadata": {
        "id": "view-in-github",
        "colab_type": "text"
      },
      "source": [
        "<a href=\"https://colab.research.google.com/github/krishnamanc/PytorchPractice/blob/main/CIFAR10.ipynb\" target=\"_parent\"><img src=\"https://colab.research.google.com/assets/colab-badge.svg\" alt=\"Open In Colab\"/></a>"
      ]
    },
    {
      "cell_type": "code",
      "execution_count": 1,
      "metadata": {
        "id": "i4Eb_iDVECzj"
      },
      "outputs": [],
      "source": [
        "import torch\n",
        "import torch.nn as nn\n",
        "import torch.functional as F\n",
        "import torchvision\n",
        "import torch.optim as optim\n",
        "import torchvision.transforms as transforms"
      ]
    },
    {
      "cell_type": "code",
      "source": [
        "# Define transformations\n",
        "transform = transforms.Compose([\n",
        "    transforms.ToTensor(),\n",
        "    transforms.Normalize((0.5, 0.5, 0.5), (0.5, 0.5, 0.5)),\n",
        "])"
      ],
      "metadata": {
        "id": "fYX5aabFG5sl"
      },
      "execution_count": 2,
      "outputs": []
    },
    {
      "cell_type": "code",
      "source": [
        "trainset = torchvision.datasets.CIFAR10(root='./data', train=True, download=True, transform=transform)\n",
        "testset = torchvision.datasets.CIFAR10(root='./data', train=False, download=True, transform=transform)"
      ],
      "metadata": {
        "colab": {
          "base_uri": "https://localhost:8080/"
        },
        "id": "3bRqKY0VJUYo",
        "outputId": "d30b384e-7ff3-487a-aabf-f911bd7365eb"
      },
      "execution_count": 3,
      "outputs": [
        {
          "output_type": "stream",
          "name": "stdout",
          "text": [
            "Downloading https://www.cs.toronto.edu/~kriz/cifar-10-python.tar.gz to ./data/cifar-10-python.tar.gz\n"
          ]
        },
        {
          "output_type": "stream",
          "name": "stderr",
          "text": [
            "100%|██████████| 170498071/170498071 [00:03<00:00, 44030247.38it/s]\n"
          ]
        },
        {
          "output_type": "stream",
          "name": "stdout",
          "text": [
            "Extracting ./data/cifar-10-python.tar.gz to ./data\n",
            "Files already downloaded and verified\n"
          ]
        }
      ]
    },
    {
      "cell_type": "code",
      "source": [
        "# Define the split sizes\n",
        "train_size = 48000\n",
        "val_size = 2000\n",
        "\n",
        "# Generate a list of indices and split it into train and validation sets\n",
        "indices = list(range(len(trainset)))\n",
        "train_indices = indices[:train_size]  # First 55,000 indices for training\n",
        "val_indices = indices[train_size:train_size + val_size]  # Next 5,000 indices for validation\n",
        "\n",
        "# Create samplers\n",
        "train_sampler = torch.utils.data.SubsetRandomSampler(train_indices)\n",
        "val_sampler = torch.utils.data.SubsetRandomSampler(val_indices)"
      ],
      "metadata": {
        "id": "FviVGYDNIMh_"
      },
      "execution_count": 4,
      "outputs": []
    },
    {
      "cell_type": "code",
      "source": [
        "# Create data loaders\n",
        "train_loader = torch.utils.data.DataLoader(trainset, batch_size=36, shuffle=False, sampler=train_sampler)\n",
        "val_loader = torch.utils.data.DataLoader(trainset, batch_size=36, shuffle=False, sampler=val_sampler)\n",
        "test_loader = torch.utils.data.DataLoader(testset, batch_size=36, shuffle=False)"
      ],
      "metadata": {
        "id": "Ds8MqYpDKoXn"
      },
      "execution_count": 5,
      "outputs": []
    },
    {
      "cell_type": "code",
      "source": [
        "class Model(nn.Module):\n",
        "    def __init__(self):\n",
        "        super(Model, self).__init__()\n",
        "        self.features = nn.Sequential(\n",
        "            nn.Conv2d(3, 9, 2, 1),\n",
        "            nn.MaxPool2d(2, 2),\n",
        "            nn.ReLU(inplace=True),\n",
        "            nn.BatchNorm2d(9),\n",
        "            nn.Conv2d(9, 27, 2, 1),\n",
        "            nn.MaxPool2d(2, 2),\n",
        "            nn.ReLU(inplace=True),\n",
        "            nn.BatchNorm2d(27),\n",
        "            nn.Conv2d(27, 81, 2, 1),\n",
        "            nn.MaxPool2d(2, 2),\n",
        "            nn.ReLU(inplace=True),\n",
        "            nn.BatchNorm2d(81)\n",
        "        )\n",
        "\n",
        "        self.classifier = nn.Sequential(\n",
        "            nn.Linear(81 * 3 * 3, 128),  # Adjusted input size for the linear layer\n",
        "            nn.ReLU(inplace=True),\n",
        "            nn.Linear(128, 64),\n",
        "            nn.ReLU(inplace=True),\n",
        "            nn.Linear(64, 32),\n",
        "            nn.ReLU(inplace=True),\n",
        "            nn.Linear(32, 16),\n",
        "            nn.ReLU(inplace=True),\n",
        "            nn.Linear(16, 10)\n",
        "        )\n",
        "\n",
        "    def forward(self, x):\n",
        "        x = self.features(x)\n",
        "        x = x.view(x.size(0), -1)  # Flatten to the correct size\n",
        "        x = self.classifier(x)\n",
        "        return x\n"
      ],
      "metadata": {
        "id": "4kHHXWP3LV2k"
      },
      "execution_count": 42,
      "outputs": []
    },
    {
      "cell_type": "code",
      "source": [
        "del model"
      ],
      "metadata": {
        "id": "AjqCYsfC0LqX"
      },
      "execution_count": 43,
      "outputs": []
    },
    {
      "cell_type": "code",
      "source": [
        "model = Model()"
      ],
      "metadata": {
        "id": "PPvesTlcwyRx"
      },
      "execution_count": 44,
      "outputs": []
    },
    {
      "cell_type": "code",
      "source": [
        "loss_fn = nn.CrossEntropyLoss()\n",
        "optimizer = optim.Adam(model.parameters(), lr=0.001)"
      ],
      "metadata": {
        "id": "U0u_SPMWNy8_"
      },
      "execution_count": 45,
      "outputs": []
    },
    {
      "cell_type": "code",
      "source": [
        "epochs = 10"
      ],
      "metadata": {
        "id": "mui73ZhLRX7R"
      },
      "execution_count": 46,
      "outputs": []
    },
    {
      "cell_type": "markdown",
      "source": [
        "The inputs are reshaped using inputs.view(-1, 1, 28, 28) to convert them into the correct 4D format expected by the convolutional layers ([batch_size, channels, height, width]). Adjust the channel dimension (1 in this case) based on your data's actual number of channels. For grayscale images like MNIST, the channel dimension is typically 1. For RGB images, it's 3."
      ],
      "metadata": {
        "id": "9cQQiESkSE8G"
      }
    },
    {
      "cell_type": "code",
      "source": [
        "model = torch.load(\"cifarmodel.pth\")"
      ],
      "metadata": {
        "id": "K0i2cDsxY-tZ"
      },
      "execution_count": 48,
      "outputs": []
    },
    {
      "cell_type": "code",
      "source": [
        "for epoch in range(epochs):\n",
        "    model.train()  # Set the model in training mode explicitly\n",
        "\n",
        "    # Train the model\n",
        "    for i, data in enumerate(train_loader, 0):\n",
        "        inputs, labels = data\n",
        "        inputs = inputs.view(-1, 3, 32, 32) # Reshape inputs to [batch_size, channels, height, width]\n",
        "\n",
        "        # Forward pass\n",
        "        outputs = model(inputs)\n",
        "        loss = loss_fn(outputs, labels)\n",
        "        optimizer.zero_grad()\n",
        "        # Backward pass and optimization\n",
        "        loss.backward()\n",
        "        optimizer.step()\n",
        "\n",
        "    print(f\"Epoch {epoch+1}/{epochs}, Loss: {loss.item():.4f}\")"
      ],
      "metadata": {
        "colab": {
          "base_uri": "https://localhost:8080/"
        },
        "id": "0HD3fk2XO9sC",
        "outputId": "975a07ee-8659-4428-8dd6-0222d3522793"
      },
      "execution_count": 49,
      "outputs": [
        {
          "output_type": "stream",
          "name": "stdout",
          "text": [
            "Epoch 1/10, Loss: 0.2427\n",
            "Epoch 2/10, Loss: 0.6692\n",
            "Epoch 3/10, Loss: 1.5916\n",
            "Epoch 4/10, Loss: 0.1558\n",
            "Epoch 5/10, Loss: 0.2646\n",
            "Epoch 6/10, Loss: 0.4339\n",
            "Epoch 7/10, Loss: 0.3803\n",
            "Epoch 8/10, Loss: 0.3928\n",
            "Epoch 9/10, Loss: 0.3169\n",
            "Epoch 10/10, Loss: 0.5860\n"
          ]
        }
      ]
    },
    {
      "cell_type": "code",
      "source": [
        "correct, total = 0, 0\n",
        "predictions = []\n",
        "model.eval()\n",
        "\n",
        "for i, data in enumerate(val_loader, 0):\n",
        "  inputs, labels = data\n",
        "  inputs = inputs.view(-1, 3, 32, 32)\n",
        "  outputs = model(inputs)\n",
        "  _, predicted = torch.max(outputs.data, 1)\n",
        "  predictions.append(outputs)\n",
        "  total += labels.size(0)\n",
        "  correct += (predicted == labels).sum().item()\n",
        "\n",
        "print(\"Accuracy on validation set : %d %\",(100 * correct / total))"
      ],
      "metadata": {
        "colab": {
          "base_uri": "https://localhost:8080/"
        },
        "id": "9CqY3zZ1O-s0",
        "outputId": "42d77a24-f70c-4261-bbfb-c8c1fadf1db1"
      },
      "execution_count": 63,
      "outputs": [
        {
          "output_type": "stream",
          "name": "stdout",
          "text": [
            "Accuracy on validation set : %d % 71.2\n"
          ]
        }
      ]
    },
    {
      "cell_type": "code",
      "source": [
        "correct, total = 0, 0\n",
        "predictions = []\n",
        "model.eval()\n",
        "\n",
        "for i, data in enumerate(test_loader, 0):\n",
        "  inputs, labels = data\n",
        "  inputs = inputs.view(-1, 3, 32, 32)\n",
        "  outputs = model(inputs)\n",
        "  _, predicted = torch.max(outputs.data, 1)\n",
        "  predictions.append(outputs)\n",
        "  total += labels.size(0)\n",
        "  correct += (predicted == labels).sum().item()\n",
        "\n",
        "print(\"Accuracy on test set : %d %\",(100 * correct / total))"
      ],
      "metadata": {
        "colab": {
          "base_uri": "https://localhost:8080/"
        },
        "id": "ys6eCD2hPuCO",
        "outputId": "ca9a4a44-883b-4d63-fb7c-52c3d7cc07f1"
      },
      "execution_count": 64,
      "outputs": [
        {
          "output_type": "stream",
          "name": "stdout",
          "text": [
            "Accuracy on test set : %d % 70.19\n"
          ]
        }
      ]
    },
    {
      "cell_type": "code",
      "source": [
        "torch.save(model, 'cifarmodel.pth')"
      ],
      "metadata": {
        "id": "dqKDqzoxQBdH"
      },
      "execution_count": 52,
      "outputs": []
    },
    {
      "cell_type": "code",
      "source": [
        "import random\n",
        "import matplotlib.pyplot as plt\n",
        "import torchvision.datasets as datasets\n",
        "import torchvision.transforms as transforms\n",
        "from PIL import Image\n",
        "from IPython.display import display\n",
        "\n",
        "# Define transformations for normalization (for model input)\n",
        "transform_normalized = transforms.Compose([\n",
        "    transforms.ToTensor(),\n",
        "    transforms.Normalize(mean=[0.5, 0.5, 0.5], std=[0.5, 0.5, 0.5])\n",
        "])\n",
        "\n",
        "# Load test dataset without any transformations\n",
        "testset_original = datasets.CIFAR10(root='./data', train=False, download=True)\n",
        "\n",
        "# Select a random image from the test dataset\n",
        "random_idx = random.randint(0, len(testset_original) - 1)\n",
        "random_image_pil, random_label = testset_original[random_idx]\n",
        "\n",
        "# Convert the PIL image to a tensor and normalize it\n",
        "random_image_tensor = transform_normalized(random_image_pil)\n",
        "\n",
        "# Ensure the model is in evaluation mode\n",
        "model.eval()\n",
        "\n",
        "# Make predictions\n",
        "with torch.no_grad():\n",
        "    output = model(random_image_tensor.unsqueeze(0))  # Add batch dimension\n",
        "\n",
        "# Get the predicted class (assuming it's a classification model)\n",
        "predicted_class = torch.argmax(output, dim=1).item()\n",
        "\n",
        "# Resize the original image for better visibility\n",
        "random_image_resized = random_image_pil.resize((128, 128), Image.ANTIALIAS)\n",
        "\n",
        "# Display the resized image using PIL\n",
        "display(random_image_resized)\n",
        "\n",
        "# Print the predicted and actual class\n",
        "print(f'Predicted Class: {predicted_class}, Actual Class: {random_label}')\n"
      ],
      "metadata": {
        "colab": {
          "base_uri": "https://localhost:8080/",
          "height": 214
        },
        "id": "PwGfV9xXVDLW",
        "outputId": "79071fa8-4837-4cd5-cf35-44815998bebe"
      },
      "execution_count": 62,
      "outputs": [
        {
          "output_type": "stream",
          "name": "stdout",
          "text": [
            "Files already downloaded and verified\n"
          ]
        },
        {
          "output_type": "stream",
          "name": "stderr",
          "text": [
            "<ipython-input-62-2730d1c662e5>:35: DeprecationWarning: ANTIALIAS is deprecated and will be removed in Pillow 10 (2023-07-01). Use LANCZOS or Resampling.LANCZOS instead.\n",
            "  random_image_resized = random_image_pil.resize((128, 128), Image.ANTIALIAS)\n"
          ]
        },
        {
          "output_type": "display_data",
          "data": {
            "text/plain": [
              "<PIL.Image.Image image mode=RGB size=128x128>"
            ],
            "image/png": "[encoded data removed]"
          },
          "metadata": {}
        },
        {
          "output_type": "stream",
          "name": "stdout",
          "text": [
            "Predicted Class: 8, Actual Class: 4\n"
          ]
        }
      ]
    },
    {
      "cell_type": "code",
      "source": [
        "# from torchsummary import summary\n",
        "# # Move the model to the GPU if available\n",
        "# device = torch.device(\"cuda\" if torch.cuda.is_available() else \"cpu\")\n",
        "# model.to(device)\n",
        "\n",
        "# # Define the input size as a tuple of integers\n",
        "# input_size = (3, 32, 32)  # Assuming input size is (channels, height, width)\n",
        "\n",
        "# # Use torchsummary to print the model summary\n",
        "# summary(model, input_size=input_size)"
      ],
      "metadata": {
        "id": "1hUmBQf6XxDq"
      },
      "execution_count": null,
      "outputs": []
    },
    {
      "cell_type": "code",
      "source": [],
      "metadata": {
        "id": "4Hlf_IOH51fs"
      },
      "execution_count": null,
      "outputs": []
    }
  ]
}