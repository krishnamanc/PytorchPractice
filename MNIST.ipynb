{
  "nbformat": 4,
  "nbformat_minor": 0,
  "metadata": {
    "colab": {
      "provenance": [],
      "gpuType": "T4",
      "authorship_tag": "ABX9TyPtl3cqeyoxBDfJ2yRkGUx7",
      "include_colab_link": true
    },
    "kernelspec": {
      "name": "python3",
      "display_name": "Python 3"
    },
    "language_info": {
      "name": "python"
    },
    "accelerator": "GPU"
  },
  "cells": [
    {
      "cell_type": "markdown",
      "metadata": {
        "id": "view-in-github",
        "colab_type": "text"
      },
      "source": [
        "<a href=\"https://colab.research.google.com/github/krishnamanc/PytorchPractice/blob/main/MNIST.ipynb\" target=\"_parent\"><img src=\"https://colab.research.google.com/assets/colab-badge.svg\" alt=\"Open In Colab\"/></a>"
      ]
    },
    {
      "cell_type": "code",
      "execution_count": 1,
      "metadata": {
        "id": "i4Eb_iDVECzj"
      },
      "outputs": [],
      "source": [
        "import torch\n",
        "import torch.nn as nn\n",
        "import torch.functional as F\n",
        "import torchvision\n",
        "import torch.optim as optim\n",
        "import torchvision.transforms as transforms"
      ]
    },
    {
      "cell_type": "code",
      "source": [
        "transform = transforms.Compose([\n",
        "    transforms.ToTensor(),  # Convert images to tensors\n",
        "    transforms.Normalize((0.1307,), (0.3081,))  # Normalize with mean and std\n",
        "])"
      ],
      "metadata": {
        "id": "fYX5aabFG5sl"
      },
      "execution_count": 2,
      "outputs": []
    },
    {
      "cell_type": "code",
      "source": [
        "trainset = torchvision.datasets.MNIST(root='./data', train=True, download=True, transform=transform)\n",
        "testset = torchvision.datasets.MNIST(root='./data', train=False, download=True, transform=transform)"
      ],
      "metadata": {
        "colab": {
          "base_uri": "https://localhost:8080/"
        },
        "id": "3bRqKY0VJUYo",
        "outputId": "a2b48f2c-ea00-49e0-c55e-1dd58cd7ec5c"
      },
      "execution_count": 3,
      "outputs": [
        {
          "output_type": "stream",
          "name": "stdout",
          "text": [
            "Downloading http://yann.lecun.com/exdb/mnist/train-images-idx3-ubyte.gz\n",
            "Failed to download (trying next):\n",
            "HTTP Error 403: Forbidden\n",
            "\n",
            "Downloading https://ossci-datasets.s3.amazonaws.com/mnist/train-images-idx3-ubyte.gz\n",
            "Downloading https://ossci-datasets.s3.amazonaws.com/mnist/train-images-idx3-ubyte.gz to ./data/MNIST/raw/train-images-idx3-ubyte.gz\n"
          ]
        },
        {
          "output_type": "stream",
          "name": "stderr",
          "text": [
            "100%|██████████| 9912422/9912422 [00:01<00:00, 6279716.56it/s] \n"
          ]
        },
        {
          "output_type": "stream",
          "name": "stdout",
          "text": [
            "Extracting ./data/MNIST/raw/train-images-idx3-ubyte.gz to ./data/MNIST/raw\n",
            "\n",
            "Downloading http://yann.lecun.com/exdb/mnist/train-labels-idx1-ubyte.gz\n",
            "Failed to download (trying next):\n",
            "HTTP Error 403: Forbidden\n",
            "\n",
            "Downloading https://ossci-datasets.s3.amazonaws.com/mnist/train-labels-idx1-ubyte.gz\n",
            "Downloading https://ossci-datasets.s3.amazonaws.com/mnist/train-labels-idx1-ubyte.gz to ./data/MNIST/raw/train-labels-idx1-ubyte.gz\n"
          ]
        },
        {
          "output_type": "stream",
          "name": "stderr",
          "text": [
            "100%|██████████| 28881/28881 [00:00<00:00, 1129259.75it/s]\n"
          ]
        },
        {
          "output_type": "stream",
          "name": "stdout",
          "text": [
            "Extracting ./data/MNIST/raw/train-labels-idx1-ubyte.gz to ./data/MNIST/raw\n",
            "\n",
            "Downloading http://yann.lecun.com/exdb/mnist/t10k-images-idx3-ubyte.gz\n",
            "Failed to download (trying next):\n",
            "HTTP Error 403: Forbidden\n",
            "\n",
            "Downloading https://ossci-datasets.s3.amazonaws.com/mnist/t10k-images-idx3-ubyte.gz\n",
            "Downloading https://ossci-datasets.s3.amazonaws.com/mnist/t10k-images-idx3-ubyte.gz to ./data/MNIST/raw/t10k-images-idx3-ubyte.gz\n"
          ]
        },
        {
          "output_type": "stream",
          "name": "stderr",
          "text": [
            "100%|██████████| 1648877/1648877 [00:00<00:00, 10023045.54it/s]\n"
          ]
        },
        {
          "output_type": "stream",
          "name": "stdout",
          "text": [
            "Extracting ./data/MNIST/raw/t10k-images-idx3-ubyte.gz to ./data/MNIST/raw\n",
            "\n",
            "Downloading http://yann.lecun.com/exdb/mnist/t10k-labels-idx1-ubyte.gz\n",
            "Failed to download (trying next):\n",
            "HTTP Error 403: Forbidden\n",
            "\n",
            "Downloading https://ossci-datasets.s3.amazonaws.com/mnist/t10k-labels-idx1-ubyte.gz\n",
            "Downloading https://ossci-datasets.s3.amazonaws.com/mnist/t10k-labels-idx1-ubyte.gz to ./data/MNIST/raw/t10k-labels-idx1-ubyte.gz\n"
          ]
        },
        {
          "output_type": "stream",
          "name": "stderr",
          "text": [
            "100%|██████████| 4542/4542 [00:00<00:00, 13511013.31it/s]"
          ]
        },
        {
          "output_type": "stream",
          "name": "stdout",
          "text": [
            "Extracting ./data/MNIST/raw/t10k-labels-idx1-ubyte.gz to ./data/MNIST/raw\n",
            "\n"
          ]
        },
        {
          "output_type": "stream",
          "name": "stderr",
          "text": [
            "\n"
          ]
        }
      ]
    },
    {
      "cell_type": "code",
      "source": [
        "# Define the split sizes\n",
        "train_size = 55000\n",
        "val_size = 5000\n",
        "\n",
        "# Generate a list of indices and split it into train and validation sets\n",
        "indices = list(range(len(trainset)))\n",
        "train_indices = indices[:train_size]  # First 55,000 indices for training\n",
        "val_indices = indices[train_size:train_size + val_size]  # Next 5,000 indices for validation\n",
        "\n",
        "# Create samplers\n",
        "train_sampler = torch.utils.data.SubsetRandomSampler(train_indices)\n",
        "val_sampler = torch.utils.data.SubsetRandomSampler(val_indices)"
      ],
      "metadata": {
        "id": "FviVGYDNIMh_"
      },
      "execution_count": 4,
      "outputs": []
    },
    {
      "cell_type": "code",
      "source": [
        "# Create data loaders\n",
        "train_loader = torch.utils.data.DataLoader(trainset, batch_size=64, shuffle=False, sampler=train_sampler)\n",
        "val_loader = torch.utils.data.DataLoader(trainset, batch_size=64, shuffle=False, sampler=val_sampler)\n",
        "test_loader = torch.utils.data.DataLoader(testset, batch_size=64, shuffle=False)"
      ],
      "metadata": {
        "id": "Ds8MqYpDKoXn"
      },
      "execution_count": 5,
      "outputs": []
    },
    {
      "cell_type": "code",
      "source": [
        "class Model(nn.Module):\n",
        "  def __init__(self):\n",
        "    super(Model, self).__init__()\n",
        "    self.features = nn.Sequential(\n",
        "        nn.Conv2d(1,16,3,1,1),\n",
        "        nn.MaxPool2d(2,2),\n",
        "        nn.ReLU(inplace=True),\n",
        "        nn.BatchNorm2d(16),\n",
        "        nn.Conv2d(16,32,3,1,1),\n",
        "        nn.MaxPool2d(2,2),\n",
        "        nn.ReLU(inplace=True),\n",
        "        nn.BatchNorm2d(32)\n",
        "    )\n",
        "\n",
        "    self.classifier = nn.Sequential(\n",
        "        nn.Linear(32*7*7,128),\n",
        "        nn.ReLU(inplace=True),\n",
        "        nn.Linear(128,64),\n",
        "        nn.ReLU(inplace=True),\n",
        "        nn.Linear(64,32),\n",
        "        nn.ReLU(inplace=True),\n",
        "        nn.Linear(32,16),\n",
        "        nn.ReLU(inplace=True),\n",
        "        nn.Linear(16,10)\n",
        "    )\n",
        "\n",
        "  def forward(self, x):\n",
        "    x = self.features(x)\n",
        "    x = x.view(x.size(0), -1)\n",
        "    x = self.classifier(x)\n",
        "    return x"
      ],
      "metadata": {
        "id": "4kHHXWP3LV2k"
      },
      "execution_count": 6,
      "outputs": []
    },
    {
      "cell_type": "code",
      "source": [
        "model = Model()"
      ],
      "metadata": {
        "id": "DaTFsdPyNvGA"
      },
      "execution_count": 7,
      "outputs": []
    },
    {
      "cell_type": "code",
      "source": [
        "loss_fn = nn.CrossEntropyLoss()\n",
        "optimizer = optim.Adam(model.parameters(), lr=0.001, weight_decay=0.001)"
      ],
      "metadata": {
        "id": "U0u_SPMWNy8_"
      },
      "execution_count": 8,
      "outputs": []
    },
    {
      "cell_type": "code",
      "source": [
        "epochs = 1"
      ],
      "metadata": {
        "id": "mui73ZhLRX7R"
      },
      "execution_count": 9,
      "outputs": []
    },
    {
      "cell_type": "markdown",
      "source": [
        "The inputs are reshaped using inputs.view(-1, 1, 28, 28) to convert them into the correct 4D format expected by the convolutional layers ([batch_size, channels, height, width]). Adjust the channel dimension (1 in this case) based on your data's actual number of channels. For grayscale images like MNIST, the channel dimension is typically 1. For RGB images, it's 3."
      ],
      "metadata": {
        "id": "9cQQiESkSE8G"
      }
    },
    {
      "cell_type": "code",
      "source": [
        "model = torch.load(\"model.pth\")"
      ],
      "metadata": {
        "id": "K0i2cDsxY-tZ"
      },
      "execution_count": 19,
      "outputs": []
    },
    {
      "cell_type": "code",
      "source": [
        "device = torch.device(\"cuda\" if torch.cuda.is_available() else \"cpu\")"
      ],
      "metadata": {
        "id": "uUW9h_hxeVHf"
      },
      "execution_count": 11,
      "outputs": []
    },
    {
      "cell_type": "code",
      "source": [
        "for epoch in range(epochs):\n",
        "    model.train()  # Set the model in training mode explicitly\n",
        "\n",
        "    # Train the model\n",
        "    for i, data in enumerate(train_loader, 0):\n",
        "        inputs, labels = data\n",
        "        inputs = inputs.view(-1, 1, 28, 28) # Reshape inputs to [batch_size, channels, height, width]\n",
        "\n",
        "        # Forward pass\n",
        "        outputs = model(inputs)\n",
        "        loss = loss_fn(outputs, labels)\n",
        "        optimizer.zero_grad()\n",
        "        # Backward pass and optimization\n",
        "        loss.backward()\n",
        "        optimizer.step()\n",
        "\n",
        "    print(f\"Epoch {epoch+1}/{epochs}, Loss: {loss.item():.4f}\")"
      ],
      "metadata": {
        "colab": {
          "base_uri": "https://localhost:8080/"
        },
        "id": "0HD3fk2XO9sC",
        "outputId": "8ff5eb45-6d06-4d6e-ff4d-80a77203a244"
      },
      "execution_count": 12,
      "outputs": [
        {
          "output_type": "stream",
          "name": "stdout",
          "text": [
            "Epoch 1/1, Loss: 0.0209\n"
          ]
        }
      ]
    },
    {
      "cell_type": "code",
      "source": [
        "correct, total = 0, 0\n",
        "predictions = []\n",
        "model.eval()\n",
        "\n",
        "for i, data in enumerate(val_loader, 0):\n",
        "  inputs, labels = data\n",
        "  inputs = inputs.view(-1, 1, 28, 28)\n",
        "  outputs = model(inputs)\n",
        "  _, predicted = torch.max(outputs.data, 1)\n",
        "  predictions.append(outputs)\n",
        "  total += labels.size(0)\n",
        "  correct += (predicted == labels).sum().item()\n",
        "\n",
        "print(\"Accuracy on validation set : %d %\",(100 * correct / total))"
      ],
      "metadata": {
        "colab": {
          "base_uri": "https://localhost:8080/"
        },
        "id": "9CqY3zZ1O-s0",
        "outputId": "19f69f2a-73b9-47b1-edac-b252060be4c2"
      },
      "execution_count": 20,
      "outputs": [
        {
          "output_type": "stream",
          "name": "stdout",
          "text": [
            "Accuracy on validation set : %d % 99.0\n"
          ]
        }
      ]
    },
    {
      "cell_type": "code",
      "source": [
        "correct, total = 0, 0\n",
        "predictions = []\n",
        "model.eval()\n",
        "\n",
        "for i, data in enumerate(test_loader, 0):\n",
        "  inputs, labels = data\n",
        "  inputs = inputs.view(-1, 1, 28, 28)\n",
        "  outputs = model(inputs)\n",
        "  _, predicted = torch.max(outputs.data, 1)\n",
        "  predictions.append(outputs)\n",
        "  total += labels.size(0)\n",
        "  correct += (predicted == labels).sum().item()\n",
        "\n",
        "print(\"Accuracy on test set : %d %\",(100 * correct / total))"
      ],
      "metadata": {
        "colab": {
          "base_uri": "https://localhost:8080/"
        },
        "id": "ys6eCD2hPuCO",
        "outputId": "11a037a9-0314-41d7-867b-9d013279591e"
      },
      "execution_count": 21,
      "outputs": [
        {
          "output_type": "stream",
          "name": "stdout",
          "text": [
            "Accuracy on test set : %d % 99.06\n"
          ]
        }
      ]
    },
    {
      "cell_type": "code",
      "source": [
        "# torch.save(model, 'model6.pth')"
      ],
      "metadata": {
        "id": "dqKDqzoxQBdH"
      },
      "execution_count": 15,
      "outputs": []
    },
    {
      "cell_type": "code",
      "source": [
        "import random\n",
        "import matplotlib.pyplot as plt\n",
        "\n",
        "# Select a random image from the test dataset\n",
        "random_idx = random.randint(0, len(testset) - 1)\n",
        "random_image, random_label = testset[random_idx]\n",
        "\n",
        "model.eval()  # Set the model to evaluation mode\n",
        "\n",
        "# Make predictions\n",
        "with torch.no_grad():\n",
        "    output = model(random_image.unsqueeze(0))  # Add batch dimension\n",
        "\n",
        "# Get the predicted class (assuming it's a classification model)\n",
        "predicted_class = torch.argmax(output, dim=1).item()\n",
        "\n",
        "# Plot the random image using Matplotlib\n",
        "plt.imshow(random_image.squeeze(), cmap='gray')  # Plot the image (remove the batch dimension)\n",
        "plt.title(f'Predicted Class: {predicted_class}, Actual Class: {random_label}')\n",
        "plt.axis('off')\n",
        "plt.show()"
      ],
      "metadata": {
        "colab": {
          "base_uri": "https://localhost:8080/",
          "height": 428
        },
        "id": "PwGfV9xXVDLW",
        "outputId": "660adb78-bde8-4249-c1fb-5743b2e4d5b9"
      },
      "execution_count": 22,
      "outputs": [
        {
          "output_type": "display_data",
          "data": {
            "text/plain": [
              "<Figure size 640x480 with 1 Axes>"
            ],
            "image/png": "[encoded data removed]"
          },
          "metadata": {}
        }
      ]
    },
    {
      "cell_type": "code",
      "source": [
        "# from torchsummary import summary\n",
        "# # Move the model to the GPU if available\n",
        "# device = torch.device(\"cuda\" if torch.cuda.is_available() else \"cpu\")\n",
        "# model.to(device)\n",
        "\n",
        "# # Define the input size as a tuple of integers\n",
        "# input_size = (1, 28, 28)  # Assuming input size is (channels, height, width)\n",
        "\n",
        "# # Use torchsummary to print the model summary\n",
        "# summary(model, input_size=input_size)"
      ],
      "metadata": {
        "id": "1hUmBQf6XxDq"
      },
      "execution_count": 17,
      "outputs": []
    },
    {
      "cell_type": "code",
      "source": [],
      "metadata": {
        "id": "ZYVLV4DudANp"
      },
      "execution_count": 17,
      "outputs": []
    }
  ]
}